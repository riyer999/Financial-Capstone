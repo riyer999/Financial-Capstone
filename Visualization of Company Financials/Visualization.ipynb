{
 "cells": [
  {
   "cell_type": "code",
   "metadata": {
    "ExecuteTime": {
     "end_time": "2024-10-02T00:06:55.097822Z",
     "start_time": "2024-10-02T00:06:51.466781Z"
    }
   },
   "source": [
    "import requests\n",
    "from bs4 import BeautifulSoup\n",
    "import pandas as pd\n",
    "import numpy as np\n",
    "import matplotlib.pyplot as plt\n",
    "import squarify \n",
    "import yfinance as yf\n",
    "import duckdb\n",
    "from edgar import *\n",
    "from edgar.financials import Financials\n",
    "set_identity(\"msun msun10@mit.edu\")"
   ],
   "outputs": [
    {
     "ename": "ModuleNotFoundError",
     "evalue": "No module named 'squarify'",
     "output_type": "error",
     "traceback": [
      "\u001B[1;31m---------------------------------------------------------------------------\u001B[0m",
      "\u001B[1;31mModuleNotFoundError\u001B[0m                       Traceback (most recent call last)",
      "Cell \u001B[1;32mIn[2], line 6\u001B[0m\n\u001B[0;32m      4\u001B[0m \u001B[38;5;28;01mimport\u001B[39;00m \u001B[38;5;21;01mnumpy\u001B[39;00m \u001B[38;5;28;01mas\u001B[39;00m \u001B[38;5;21;01mnp\u001B[39;00m\n\u001B[0;32m      5\u001B[0m \u001B[38;5;28;01mimport\u001B[39;00m \u001B[38;5;21;01mmatplotlib\u001B[39;00m\u001B[38;5;21;01m.\u001B[39;00m\u001B[38;5;21;01mpyplot\u001B[39;00m \u001B[38;5;28;01mas\u001B[39;00m \u001B[38;5;21;01mplt\u001B[39;00m\n\u001B[1;32m----> 6\u001B[0m \u001B[38;5;28;01mimport\u001B[39;00m \u001B[38;5;21;01msquarify\u001B[39;00m \n\u001B[0;32m      7\u001B[0m \u001B[38;5;28;01mimport\u001B[39;00m \u001B[38;5;21;01myfinance\u001B[39;00m \u001B[38;5;28;01mas\u001B[39;00m \u001B[38;5;21;01myf\u001B[39;00m\n\u001B[0;32m      8\u001B[0m \u001B[38;5;28;01mimport\u001B[39;00m \u001B[38;5;21;01mduckdb\u001B[39;00m\n",
      "\u001B[1;31mModuleNotFoundError\u001B[0m: No module named 'squarify'"
     ]
    }
   ],
   "execution_count": 2
  },
  {
   "cell_type": "code",
   "metadata": {
    "ExecuteTime": {
     "end_time": "2024-10-02T00:06:46.742807Z",
     "start_time": "2024-10-02T00:06:46.223341Z"
    }
   },
   "source": [
    "apple = Company('AAPL')"
   ],
   "outputs": [
    {
     "ename": "NameError",
     "evalue": "name 'Company' is not defined",
     "output_type": "error",
     "traceback": [
      "\u001B[1;31m---------------------------------------------------------------------------\u001B[0m",
      "\u001B[1;31mNameError\u001B[0m                                 Traceback (most recent call last)",
      "Cell \u001B[1;32mIn[1], line 1\u001B[0m\n\u001B[1;32m----> 1\u001B[0m apple \u001B[38;5;241m=\u001B[39m \u001B[43mCompany\u001B[49m(\u001B[38;5;124m'\u001B[39m\u001B[38;5;124mAAPL\u001B[39m\u001B[38;5;124m'\u001B[39m)\n",
      "\u001B[1;31mNameError\u001B[0m: name 'Company' is not defined"
     ]
    }
   ],
   "execution_count": 1
  },
  {
   "cell_type": "code",
   "execution_count": 54,
   "metadata": {},
   "outputs": [
    {
     "data": {
      "text/html": [
       "<pre style=\"white-space:pre;overflow-x:auto;line-height:normal;font-family:Menlo,'DejaVu Sans Mono',consolas,'Courier New',monospace\"></pre>\n"
      ],
      "text/plain": []
     },
     "metadata": {},
     "output_type": "display_data"
    },
    {
     "data": {
      "text/plain": [
       "╭──────────────────────────────────────── Filings for Apple Inc. [320193] ────────────────────────────────────────╮\n",
       "│                                                                                                                 │\n",
       "│  \u001B[1m \u001B[0m\u001B[1m  \u001B[0m\u001B[1m \u001B[0m \u001B[1;38;5;71m \u001B[0m\u001B[1;38;5;71mform\u001B[0m\u001B[1;38;5;71m \u001B[0m \u001B[1;38;5;39m \u001B[0m\u001B[1;38;5;39mfiled     \u001B[0m\u001B[1;38;5;39m \u001B[0m \u001B[1m \u001B[0m\u001B[1maccession_number    \u001B[0m\u001B[1m \u001B[0m \u001B[1m \u001B[0m\u001B[1mxbrl\u001B[0m\u001B[1m \u001B[0m                                                         │\n",
       "│  ──────────────────────────────────────────────────────                                                         │\n",
       "│  \u001B[1m \u001B[0m\u001B[1m0 \u001B[0m\u001B[1m \u001B[0m \u001B[1;38;5;71m \u001B[0m\u001B[1;38;5;71m10-K\u001B[0m\u001B[1;38;5;71m \u001B[0m \u001B[1;38;5;39m \u001B[0m\u001B[1;38;5;39m2023-11-03\u001B[0m\u001B[1;38;5;39m \u001B[0m \u001B[1m \u001B[0m\u001B[1m0000320193-23-000106\u001B[0m\u001B[1m \u001B[0m \u001B[1m \u001B[0m\u001B[1m✓   \u001B[0m\u001B[1m \u001B[0m                                                         │\n",
       "│   1   \u001B[38;5;71m \u001B[0m\u001B[38;5;71m10-K\u001B[0m\u001B[38;5;71m \u001B[0m \u001B[38;5;39m \u001B[0m\u001B[38;5;39m2022-10-28\u001B[0m\u001B[38;5;39m \u001B[0m  0000320193-22-000108   ✓                                                             │\n",
       "│  \u001B[1m \u001B[0m\u001B[1m2 \u001B[0m\u001B[1m \u001B[0m \u001B[1;38;5;71m \u001B[0m\u001B[1;38;5;71m10-K\u001B[0m\u001B[1;38;5;71m \u001B[0m \u001B[1;38;5;39m \u001B[0m\u001B[1;38;5;39m2021-10-29\u001B[0m\u001B[1;38;5;39m \u001B[0m \u001B[1m \u001B[0m\u001B[1m0000320193-21-000105\u001B[0m\u001B[1m \u001B[0m \u001B[1m \u001B[0m\u001B[1m✓   \u001B[0m\u001B[1m \u001B[0m                                                         │\n",
       "│   3   \u001B[38;5;71m \u001B[0m\u001B[38;5;71m10-K\u001B[0m\u001B[38;5;71m \u001B[0m \u001B[38;5;39m \u001B[0m\u001B[38;5;39m2020-10-30\u001B[0m\u001B[38;5;39m \u001B[0m  0000320193-20-000096   ✓                                                             │\n",
       "│  \u001B[1m \u001B[0m\u001B[1m4 \u001B[0m\u001B[1m \u001B[0m \u001B[1;38;5;71m \u001B[0m\u001B[1;38;5;71m10-K\u001B[0m\u001B[1;38;5;71m \u001B[0m \u001B[1;38;5;39m \u001B[0m\u001B[1;38;5;39m2019-10-31\u001B[0m\u001B[1;38;5;39m \u001B[0m \u001B[1m \u001B[0m\u001B[1m0000320193-19-000119\u001B[0m\u001B[1m \u001B[0m \u001B[1m \u001B[0m\u001B[1m✓   \u001B[0m\u001B[1m \u001B[0m                                                         │\n",
       "│   5   \u001B[38;5;71m \u001B[0m\u001B[38;5;71m10-K\u001B[0m\u001B[38;5;71m \u001B[0m \u001B[38;5;39m \u001B[0m\u001B[38;5;39m2018-11-05\u001B[0m\u001B[38;5;39m \u001B[0m  0000320193-18-000145   ✓                                                             │\n",
       "│  \u001B[1m \u001B[0m\u001B[1m6 \u001B[0m\u001B[1m \u001B[0m \u001B[1;38;5;71m \u001B[0m\u001B[1;38;5;71m10-K\u001B[0m\u001B[1;38;5;71m \u001B[0m \u001B[1;38;5;39m \u001B[0m\u001B[1;38;5;39m2017-11-03\u001B[0m\u001B[1;38;5;39m \u001B[0m \u001B[1m \u001B[0m\u001B[1m0000320193-17-000070\u001B[0m\u001B[1m \u001B[0m \u001B[1m \u001B[0m\u001B[1m✓   \u001B[0m\u001B[1m \u001B[0m                                                         │\n",
       "│   7   \u001B[38;5;71m \u001B[0m\u001B[38;5;71m10-K\u001B[0m\u001B[38;5;71m \u001B[0m \u001B[38;5;39m \u001B[0m\u001B[38;5;39m2016-10-26\u001B[0m\u001B[38;5;39m \u001B[0m  0001628280-16-020309   ✓                                                             │\n",
       "│  \u001B[1m \u001B[0m\u001B[1m8 \u001B[0m\u001B[1m \u001B[0m \u001B[1;38;5;71m \u001B[0m\u001B[1;38;5;71m10-K\u001B[0m\u001B[1;38;5;71m \u001B[0m \u001B[1;38;5;39m \u001B[0m\u001B[1;38;5;39m2015-10-28\u001B[0m\u001B[1;38;5;39m \u001B[0m \u001B[1m \u001B[0m\u001B[1m0001193125-15-356351\u001B[0m\u001B[1m \u001B[0m \u001B[1m \u001B[0m\u001B[1m✓   \u001B[0m\u001B[1m \u001B[0m                                                         │\n",
       "│   9   \u001B[38;5;71m \u001B[0m\u001B[38;5;71m10-K\u001B[0m\u001B[38;5;71m \u001B[0m \u001B[38;5;39m \u001B[0m\u001B[38;5;39m2014-10-27\u001B[0m\u001B[38;5;39m \u001B[0m  0001193125-14-383437   ✓                                                             │\n",
       "│  \u001B[1m \u001B[0m\u001B[1m10\u001B[0m\u001B[1m \u001B[0m \u001B[1;38;5;71m \u001B[0m\u001B[1;38;5;71m10-K\u001B[0m\u001B[1;38;5;71m \u001B[0m \u001B[1;38;5;39m \u001B[0m\u001B[1;38;5;39m2013-10-30\u001B[0m\u001B[1;38;5;39m \u001B[0m \u001B[1m \u001B[0m\u001B[1m0001193125-13-416534\u001B[0m\u001B[1m \u001B[0m \u001B[1m \u001B[0m\u001B[1m✓   \u001B[0m\u001B[1m \u001B[0m                                                         │\n",
       "│   11  \u001B[38;5;71m \u001B[0m\u001B[38;5;71m10-K\u001B[0m\u001B[38;5;71m \u001B[0m \u001B[38;5;39m \u001B[0m\u001B[38;5;39m2012-10-31\u001B[0m\u001B[38;5;39m \u001B[0m  0001193125-12-444068   ✓                                                             │\n",
       "│  \u001B[1m \u001B[0m\u001B[1m12\u001B[0m\u001B[1m \u001B[0m \u001B[1;38;5;71m \u001B[0m\u001B[1;38;5;71m10-K\u001B[0m\u001B[1;38;5;71m \u001B[0m \u001B[1;38;5;39m \u001B[0m\u001B[1;38;5;39m2011-10-26\u001B[0m\u001B[1;38;5;39m \u001B[0m \u001B[1m \u001B[0m\u001B[1m0001193125-11-282113\u001B[0m\u001B[1m \u001B[0m \u001B[1m \u001B[0m\u001B[1m✓   \u001B[0m\u001B[1m \u001B[0m                                                         │\n",
       "│   13  \u001B[38;5;71m \u001B[0m\u001B[38;5;71m10-K\u001B[0m\u001B[38;5;71m \u001B[0m \u001B[38;5;39m \u001B[0m\u001B[38;5;39m2010-10-27\u001B[0m\u001B[38;5;39m \u001B[0m  0001193125-10-238044   ✓                                                             │\n",
       "│  \u001B[1m \u001B[0m\u001B[1m14\u001B[0m\u001B[1m \u001B[0m \u001B[1;38;5;71m \u001B[0m\u001B[1;38;5;71m10-K\u001B[0m\u001B[1;38;5;71m \u001B[0m \u001B[1;38;5;39m \u001B[0m\u001B[1;38;5;39m2009-10-27\u001B[0m\u001B[1;38;5;39m \u001B[0m \u001B[1m \u001B[0m\u001B[1m0001193125-09-214859\u001B[0m\u001B[1m \u001B[0m \u001B[1m \u001B[0m\u001B[1m✓   \u001B[0m\u001B[1m \u001B[0m                                                         │\n",
       "│   15  \u001B[38;5;71m \u001B[0m\u001B[38;5;71m10-K\u001B[0m\u001B[38;5;71m \u001B[0m \u001B[38;5;39m \u001B[0m\u001B[38;5;39m2008-11-05\u001B[0m\u001B[38;5;39m \u001B[0m  0001193125-08-224958                                                                 │\n",
       "│  \u001B[1m \u001B[0m\u001B[1m16\u001B[0m\u001B[1m \u001B[0m \u001B[1;38;5;71m \u001B[0m\u001B[1;38;5;71m10-K\u001B[0m\u001B[1;38;5;71m \u001B[0m \u001B[1;38;5;39m \u001B[0m\u001B[1;38;5;39m2007-11-15\u001B[0m\u001B[1;38;5;39m \u001B[0m \u001B[1m \u001B[0m\u001B[1m0001047469-07-009340\u001B[0m\u001B[1m \u001B[0m \u001B[1m \u001B[0m\u001B[1m    \u001B[0m\u001B[1m \u001B[0m                                                         │\n",
       "│   17  \u001B[38;5;71m \u001B[0m\u001B[38;5;71m10-K\u001B[0m\u001B[38;5;71m \u001B[0m \u001B[38;5;39m \u001B[0m\u001B[38;5;39m2006-12-29\u001B[0m\u001B[38;5;39m \u001B[0m  0001104659-06-084288                                                                 │\n",
       "│  \u001B[1m \u001B[0m\u001B[1m18\u001B[0m\u001B[1m \u001B[0m \u001B[1;38;5;71m \u001B[0m\u001B[1;38;5;71m10-K\u001B[0m\u001B[1;38;5;71m \u001B[0m \u001B[1;38;5;39m \u001B[0m\u001B[1;38;5;39m2005-12-01\u001B[0m\u001B[1;38;5;39m \u001B[0m \u001B[1m \u001B[0m\u001B[1m0001104659-05-058421\u001B[0m\u001B[1m \u001B[0m \u001B[1m \u001B[0m\u001B[1m    \u001B[0m\u001B[1m \u001B[0m                                                         │\n",
       "│   19  \u001B[38;5;71m \u001B[0m\u001B[38;5;71m10-K\u001B[0m\u001B[38;5;71m \u001B[0m \u001B[38;5;39m \u001B[0m\u001B[38;5;39m2004-12-03\u001B[0m\u001B[38;5;39m \u001B[0m  0001047469-04-035975                                                                 │\n",
       "│  \u001B[1m \u001B[0m\u001B[1m20\u001B[0m\u001B[1m \u001B[0m \u001B[1;38;5;71m \u001B[0m\u001B[1;38;5;71m10-K\u001B[0m\u001B[1;38;5;71m \u001B[0m \u001B[1;38;5;39m \u001B[0m\u001B[1;38;5;39m2003-12-19\u001B[0m\u001B[1;38;5;39m \u001B[0m \u001B[1m \u001B[0m\u001B[1m0001047469-03-041604\u001B[0m\u001B[1m \u001B[0m \u001B[1m \u001B[0m\u001B[1m    \u001B[0m\u001B[1m \u001B[0m                                                         │\n",
       "│   21  \u001B[38;5;71m \u001B[0m\u001B[38;5;71m10-K\u001B[0m\u001B[38;5;71m \u001B[0m \u001B[38;5;39m \u001B[0m\u001B[38;5;39m2002-12-19\u001B[0m\u001B[38;5;39m \u001B[0m  0001047469-02-007674                                                                 │\n",
       "│  \u001B[1m \u001B[0m\u001B[1m22\u001B[0m\u001B[1m \u001B[0m \u001B[1;38;5;71m \u001B[0m\u001B[1;38;5;71m10-K\u001B[0m\u001B[1;38;5;71m \u001B[0m \u001B[1;38;5;39m \u001B[0m\u001B[1;38;5;39m2000-12-14\u001B[0m\u001B[1;38;5;39m \u001B[0m \u001B[1m \u001B[0m\u001B[1m0000912057-00-053623\u001B[0m\u001B[1m \u001B[0m \u001B[1m \u001B[0m\u001B[1m    \u001B[0m\u001B[1m \u001B[0m                                                         │\n",
       "│   23  \u001B[38;5;71m \u001B[0m\u001B[38;5;71m10-K\u001B[0m\u001B[38;5;71m \u001B[0m \u001B[38;5;39m \u001B[0m\u001B[38;5;39m1999-12-22\u001B[0m\u001B[38;5;39m \u001B[0m  0000912057-99-010244                                                                 │\n",
       "│  \u001B[1m \u001B[0m\u001B[1m24\u001B[0m\u001B[1m \u001B[0m \u001B[1;38;5;71m \u001B[0m\u001B[1;38;5;71m10-K\u001B[0m\u001B[1;38;5;71m \u001B[0m \u001B[1;38;5;39m \u001B[0m\u001B[1;38;5;39m1997-12-05\u001B[0m\u001B[1;38;5;39m \u001B[0m \u001B[1m \u001B[0m\u001B[1m0001047469-97-006960\u001B[0m\u001B[1m \u001B[0m \u001B[1m \u001B[0m\u001B[1m    \u001B[0m\u001B[1m \u001B[0m                                                         │\n",
       "│   25  \u001B[38;5;71m \u001B[0m\u001B[38;5;71m10-K\u001B[0m\u001B[38;5;71m \u001B[0m \u001B[38;5;39m \u001B[0m\u001B[38;5;39m1996-12-19\u001B[0m\u001B[38;5;39m \u001B[0m  0000320193-96-000023                                                                 │\n",
       "│  \u001B[1m \u001B[0m\u001B[1m26\u001B[0m\u001B[1m \u001B[0m \u001B[1;38;5;71m \u001B[0m\u001B[1;38;5;71m10-K\u001B[0m\u001B[1;38;5;71m \u001B[0m \u001B[1;38;5;39m \u001B[0m\u001B[1;38;5;39m1995-12-19\u001B[0m\u001B[1;38;5;39m \u001B[0m \u001B[1m \u001B[0m\u001B[1m0000320193-95-000016\u001B[0m\u001B[1m \u001B[0m \u001B[1m \u001B[0m\u001B[1m    \u001B[0m\u001B[1m \u001B[0m                                                         │\n",
       "│   27  \u001B[38;5;71m \u001B[0m\u001B[38;5;71m10-K\u001B[0m\u001B[38;5;71m \u001B[0m \u001B[38;5;39m \u001B[0m\u001B[38;5;39m1994-12-13\u001B[0m\u001B[38;5;39m \u001B[0m  0000320193-94-000016                                                                 │\n",
       "│                                                                                                                 │\n",
       "│ Showing 28 filings of 28 total                                                                                  │\n",
       "╰─────────────────────────────────────────────────────────────────────────────────────────────────────────────────╯"
      ]
     },
     "execution_count": 54,
     "metadata": {},
     "output_type": "execute_result"
    }
   ],
   "source": [
    "filings = apple.get_filings(form=\"10-K\")\n",
    "filings \n"
   ]
  },
  {
   "cell_type": "code",
   "execution_count": 77,
   "metadata": {},
   "outputs": [
    {
     "data": {
      "text/html": [
       "<pre style=\"white-space:pre;overflow-x:auto;line-height:normal;font-family:Menlo,'DejaVu Sans Mono',consolas,'Courier New',monospace\"></pre>\n"
      ],
      "text/plain": []
     },
     "metadata": {},
     "output_type": "display_data"
    },
    {
     "data": {
      "text/plain": [
       "<bound method Filing.xbrl of ╭──────────────────────────────────────────\u001B[1m Apple Inc. [320193] 10-K 📊 \u001B[0m──────────────────────────────────────────╮\n",
       "│ ╭──────────────────────┬────────────╮                                                                           │\n",
       "│ │\u001B[1;38;5;39m \u001B[0m\u001B[1;38;5;39m0000320193-23-000106\u001B[0m\u001B[1;38;5;39m \u001B[0m│ 2023-11-03 │                                                                           │\n",
       "│ ╰──────────────────────┴────────────╯                                                                           │\n",
       "│ ╭───────────────────────────────────────────────────────────────────────────────────────────╮                   │\n",
       "│ │\u001B[1m \u001B[0m\u001B[1mLinks\u001B[0m\u001B[1m: 🏠 Homepage 📄 Primary Document 📜 Full Submission Text                           \u001B[0m\u001B[1m \u001B[0m│                   │\n",
       "│ ├───────────────────────────────────────────────────────────────────────────────────────────┤                   │\n",
       "│ │ 🏠 https://sec.gov/Archives/edgar/data/320193/0000320193-23-000106-index.html             │                   │\n",
       "│ │ 📄 https://sec.gov/Archives/edgar/data/320193/000032019323000106/aapl-20230930.htm        │                   │\n",
       "│ │ 📜 https://sec.gov/Archives/edgar/data/320193/000032019323000106/0000320193-23-000106.txt │                   │\n",
       "│ ╰───────────────────────────────────────────────────────────────────────────────────────────╯                   │\n",
       "╰───────────────────────────────── Form 10-K: Annual report for public companies ─────────────────────────────────╯\n",
       ">"
      ]
     },
     "execution_count": 77,
     "metadata": {},
     "output_type": "execute_result"
    }
   ],
   "source": [
    "new_10k = filings.latest()\n",
    "tenk = new_10k.xbrl\n"
   ]
  },
  {
   "cell_type": "code",
   "execution_count": 94,
   "metadata": {},
   "outputs": [
    {
     "data": {
      "text/html": [
       "<pre style=\"white-space:pre;overflow-x:auto;line-height:normal;font-family:Menlo,'DejaVu Sans Mono',consolas,'Courier New',monospace\"></pre>\n"
      ],
      "text/plain": []
     },
     "metadata": {},
     "output_type": "display_data"
    },
    {
     "data": {
      "text/plain": [
       "                                               \u001B[1;38;5;196mCarnival Corporation\u001B[0m                                                \n",
       "                                       \u001B[1mConsolidated Statement of Cash Flows\u001B[0m                                        \n",
       "                                                                                                                   \n",
       " \u001B[1m \u001B[0m\u001B[1m                                                                           \u001B[0m\u001B[1m \u001B[0m \u001B[1m \u001B[0m\u001B[1mAug 31, 2024   \u001B[0m\u001B[1m \u001B[0m \u001B[1m \u001B[0m\u001B[1mAug 31, 2023   \u001B[0m\u001B[1m \u001B[0m \n",
       " ───────────────────────────────────────────────────────────────────────────────────────────────────────────────── \n",
       "  \u001B[1;38;5;32mStatement of Cash Flows [Abstract]                                         \u001B[0m                                      \n",
       "  \u001B[1;38;5;32m OPERATING ACTIVITIES                                                      \u001B[0m                                      \n",
       "    Net income (loss)                                                             1,735,000,000     1,074,000,000  \n",
       "  \u001B[1;38;5;32m  Adjustments to reconcile net income (loss) to net cash provided by (used \u001B[0m                                      \n",
       "  \u001B[1;38;5;32min) operating activities                                                   \u001B[0m                                      \n",
       "     Depreciation and amortization                                                  651,000,000       596,000,000  \n",
       "     Impairments                                                                      2,000,000        19,000,000  \n",
       "     (Gain) loss on debt extinguishment                                             -75,000,000       -99,000,000  \n",
       "     (Income) loss from equity-method investments                                     3,000,000       -16,000,000  \n",
       "     Share-based compensation                                                        47,000,000        43,000,000  \n",
       "     Amortization of discounts and debt issue costs                                 107,000,000       126,000,000  \n",
       "     Noncash lease expense                                                          105,000,000       109,000,000  \n",
       "     Gain on sales of ships                                                           8,000,000        54,000,000  \n",
       "     Other                                                                           92,000,000        39,000,000  \n",
       "     Adjustments to reconcile net income (loss) to net cash provided by (used    -3,928,000,000    -2,145,000,000  \n",
       "  in) operating activities                                                                                         \n",
       "  \u001B[1;38;5;32m   Changes in operating assets and liabilities                             \u001B[0m                                      \n",
       "      Receivables                                                                    72,000,000        99,000,000  \n",
       "      Inventories                                                                   -33,000,000        43,000,000  \n",
       "      Prepaid expenses and other assets                                            -509,000,000       -74,000,000  \n",
       "      Accounts payable                                                              -58,000,000        31,000,000  \n",
       "      Accrued liabilities and other                                                 245,000,000       155,000,000  \n",
       "      Customer deposits                                                             427,000,000     1,097,000,000  \n",
       "    Net cash provided by (used in) operating activities                           5,012,000,000     3,359,000,000  \n",
       "  \u001B[1;38;5;32m INVESTING ACTIVITIES                                                      \u001B[0m                                      \n",
       "    Purchases of property and equipment                                           4,034,000,000     2,609,000,000  \n",
       "    Proceeds from sales of ships                                                     16,000,000       260,000,000  \n",
       "    Other                                                                           -57,000,000       -28,000,000  \n",
       "    Net cash provided by (used in) investing activities                          -3,961,000,000    -2,322,000,000  \n",
       "  \u001B[1;38;5;32m FINANCING ACTIVITIES                                                      \u001B[0m                                      \n",
       "    Repayments of short-term borrowings                                                       0       200,000,000  \n",
       "    Principal repayments of long-term debt                                        4,839,000,000     6,828,000,000  \n",
       "    Debt issuance costs                                                             122,000,000       116,000,000  \n",
       "    Debt extinguishment costs                                                        41,000,000        67,000,000  \n",
       "    Proceeds from issuance of long-term debt                                      3,048,000,000     2,961,000,000  \n",
       "    Proceeds from issuance of common stock                                                    0         5,000,000  \n",
       "    Proceeds from issuance of common stock under the Stock Swap Program                       0        22,000,000  \n",
       "    Purchase of treasury stock under the Stock Swap Program                                   0        20,000,000  \n",
       "    Other                                                                             1,000,000        14,000,000  \n",
       "    Net cash provided by (used in) financing activities                          -1,953,000,000    -4,229,000,000  \n",
       "   Effect of exchange rate changes on cash, cash equivalents and restricted          10,000,000        25,000,000  \n",
       "  cash                                                                                                             \n",
       "   Net increase (decrease) in cash, cash equivalents and restricted cash           -893,000,000    -3,166,000,000  \n",
       "   Cash, cash equivalents and restricted cash at end of period                    1,543,000,000     2,870,000,000  \n",
       "                                                                                                                   "
      ]
     },
     "execution_count": 94,
     "metadata": {},
     "output_type": "execute_result"
    }
   ],
   "source": [
    "financials = Financials(filing.xbrl())\n",
    "financials.get_balance_sheet()\n",
    "financials.get_income_statement()\n",
    "financials.get_cash_flow_statement()"
   ]
  },
  {
   "cell_type": "code",
   "execution_count": 117,
   "metadata": {},
   "outputs": [
    {
     "ename": "AttributeError",
     "evalue": "'Financials' object has no attribute 'balance_sheet'",
     "output_type": "error",
     "traceback": [
      "\u001B[1;31m---------------------------------------------------------------------------\u001B[0m",
      "\u001B[1;31mAttributeError\u001B[0m                            Traceback (most recent call last)",
      "Cell \u001B[1;32mIn[117], line 4\u001B[0m\n\u001B[0;32m      1\u001B[0m tenk \u001B[38;5;241m=\u001B[39m Company(\u001B[38;5;124m\"\u001B[39m\u001B[38;5;124mAAPL\u001B[39m\u001B[38;5;124m\"\u001B[39m)\u001B[38;5;241m.\u001B[39mget_filings(form\u001B[38;5;241m=\u001B[39m\u001B[38;5;124m\"\u001B[39m\u001B[38;5;124m10-K\u001B[39m\u001B[38;5;124m\"\u001B[39m)\u001B[38;5;241m.\u001B[39mlatest(\u001B[38;5;241m1\u001B[39m)\u001B[38;5;241m.\u001B[39mobj()\n\u001B[0;32m      2\u001B[0m financials \u001B[38;5;241m=\u001B[39m tenk\u001B[38;5;241m.\u001B[39mfinancials\n\u001B[1;32m----> 4\u001B[0m balance_sheet_df \u001B[38;5;241m=\u001B[39m \u001B[43mfinancials\u001B[49m\u001B[38;5;241;43m.\u001B[39;49m\u001B[43mbalance_sheet\u001B[49m\u001B[38;5;241m.\u001B[39mget_dataframe()\n",
      "\u001B[1;31mAttributeError\u001B[0m: 'Financials' object has no attribute 'balance_sheet'"
     ]
    }
   ],
   "source": [
    "tenk = Company(\"AAPL\").get_filings(form=\"10-K\").latest(1).obj()\n",
    "financials = tenk.financials\n",
    "\n",
    "balance_sheet_df = financials.balance_sheet.get_dataframe()"
   ]
  }
 ],
 "metadata": {
  "kernelspec": {
   "display_name": "Python 3",
   "language": "python",
   "name": "python3"
  },
  "language_info": {
   "codemirror_mode": {
    "name": "ipython",
    "version": 3
   },
   "file_extension": ".py",
   "mimetype": "text/x-python",
   "name": "python",
   "nbconvert_exporter": "python",
   "pygments_lexer": "ipython3",
   "version": "3.12.6"
  }
 },
 "nbformat": 4,
 "nbformat_minor": 2
}
