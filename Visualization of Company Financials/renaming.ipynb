{
 "cells": [
  {
   "cell_type": "code",
   "id": "initial_id",
   "metadata": {
    "collapsed": true,
    "ExecuteTime": {
     "end_time": "2024-09-20T00:47:51.596068Z",
     "start_time": "2024-09-20T00:47:51.558939Z"
    }
   },
   "source": [
    "import pandas as pd\n",
    "import requests\n",
    "from edgar_functions import *\n",
    "from bs4 import BeautifulSoup\n",
    "from headers import headers\n",
    "\n",
    "ticker = \"WSM\""
   ],
   "outputs": [],
   "execution_count": 59
  },
  {
   "metadata": {
    "ExecuteTime": {
     "end_time": "2024-09-20T00:48:01.032866Z",
     "start_time": "2024-09-20T00:48:00.040605Z"
    }
   },
   "cell_type": "code",
   "source": [
    "acc = get_filtered_filings(ticker, ten_k=True, just_accession_numbers=True)\n",
    "acc_num = acc.iloc[0].replace(\"-\", \"\")\n",
    "acc_num\n"
   ],
   "id": "22f7eb58b3383f21",
   "outputs": [
    {
     "data": {
      "text/plain": [
       "'000162828024012221'"
      ]
     },
     "execution_count": 60,
     "metadata": {},
     "output_type": "execute_result"
    }
   ],
   "execution_count": 60
  },
  {
   "metadata": {
    "ExecuteTime": {
     "end_time": "2024-09-20T00:49:32.343363Z",
     "start_time": "2024-09-20T00:49:32.315848Z"
    }
   },
   "cell_type": "code",
   "source": "get_statement_file_names_in_filing_summary(ticker, acc_num, headers=headers)\n",
   "id": "7eddd29a8497dff8",
   "outputs": [
    {
     "ename": "NameError",
     "evalue": "name 'get_statement_file_names_in_filing_summary' is not defined",
     "output_type": "error",
     "traceback": [
      "\u001B[1;31m---------------------------------------------------------------------------\u001B[0m",
      "\u001B[1;31mNameError\u001B[0m                                 Traceback (most recent call last)",
      "Cell \u001B[1;32mIn[66], line 1\u001B[0m\n\u001B[1;32m----> 1\u001B[0m \u001B[43mget_statement_file_names_in_filing_summary\u001B[49m(ticker, acc_num, headers\u001B[38;5;241m=\u001B[39mheaders)\n",
      "\u001B[1;31mNameError\u001B[0m: name 'get_statement_file_names_in_filing_summary' is not defined"
     ]
    }
   ],
   "execution_count": 66
  },
  {
   "metadata": {
    "ExecuteTime": {
     "end_time": "2024-09-20T00:49:33.330034Z",
     "start_time": "2024-09-20T00:49:33.310029Z"
    }
   },
   "cell_type": "code",
   "source": [
    "def facts_DF(ticker, headers=headers):\n",
    "    facts = get_facts(ticker, headers)\n",
    "    us_gaap_data = facts[\"facts\"][\"us-gaap\"]\n",
    "    df_data = []\n",
    "    for fact, details in us_gaap_data.items():\n",
    "        for unit in details[\"units\"]:\n",
    "            for item in details[\"units\"][unit]:\n",
    "                row = item.copy()\n",
    "                row[\"fact\"] = fact\n",
    "                df_data.append(row)\n",
    "\n",
    "    df = pd.DataFrame(df_data)\n",
    "    df[\"end\"] = pd.to_datetime(df[\"end\"])\n",
    "    df[\"start\"] = pd.to_datetime(df[\"start\"])\n",
    "    df = df.drop_duplicates(subset=[\"fact\", \"end\", \"val\"])\n",
    "    df.set_index(\"end\", inplace=True)\n",
    "    labels_dict = {fact: details[\"label\"] for fact, details in us_gaap_data.items()}\n",
    "    return df, labels_dict"
   ],
   "id": "68d1b2c1e17327da",
   "outputs": [],
   "execution_count": 67
  },
  {
   "metadata": {
    "ExecuteTime": {
     "end_time": "2024-09-20T00:49:35.953013Z",
     "start_time": "2024-09-20T00:49:34.311726Z"
    }
   },
   "cell_type": "code",
   "source": "facts, label_dict = facts_DF(\"WSM\")",
   "id": "dcdcf61ff40894e2",
   "outputs": [],
   "execution_count": 68
  },
  {
   "metadata": {
    "ExecuteTime": {
     "end_time": "2024-09-20T00:48:23.510Z",
     "start_time": "2024-09-20T00:48:23.491765Z"
    }
   },
   "cell_type": "code",
   "source": [
    "def annual_facts(ticker, headers=headers):\n",
    "    accession_nums = edgar.get_filtered_filings(\n",
    "        ticker, ten_k=True, just_accession_numbers=True\n",
    "    )\n",
    "    df, label_dict = facts_DF(ticker, headers)\n",
    "    ten_k = df[df[\"accn\"].isin(accession_nums)]\n",
    "    ten_k = ten_k[ten_k.index.isin(accession_nums.index)]\n",
    "    pivot = ten_k.pivot_table(values=\"val\", columns=\"fact\", index=\"end\")\n",
    "    pivot.rename(columns=label_dict, inplace=True)\n",
    "    return pivot.T"
   ],
   "id": "16898c1df2a4a88a",
   "outputs": [],
   "execution_count": 64
  },
  {
   "metadata": {
    "ExecuteTime": {
     "end_time": "2024-09-20T00:48:24.648928Z",
     "start_time": "2024-09-20T00:48:24.638850Z"
    }
   },
   "cell_type": "code",
   "source": [
    "def quarterly_facts(ticker, headers=headers):\n",
    "    accession_nums = get_filtered_filings(\n",
    "        ticker, ten_k=False, just_accession_numbers=True\n",
    "    )\n",
    "    df, label_dict = facts_DF(ticker, headers)\n",
    "    ten_q = df[df[\"accn\"].isin(accession_nums)]\n",
    "    ten_q = ten_q[ten_q.index.isin(accession_nums.index)].reset_index(drop=False)\n",
    "    ten_q = ten_q.drop_duplicates(subset=[\"fact\", \"end\"], keep=\"last\")\n",
    "    pivot = ten_q.pivot_table(values=\"val\", columns=\"fact\", index=\"end\")\n",
    "    pivot.rename(columns=label_dict, inplace=True)\n",
    "    return pivot.T"
   ],
   "id": "6ad26fd7f7164687",
   "outputs": [],
   "execution_count": 65
  },
  {
   "metadata": {
    "ExecuteTime": {
     "end_time": "2024-09-20T00:38:49.974940Z",
     "start_time": "2024-09-20T00:38:48.016910Z"
    }
   },
   "cell_type": "code",
   "source": "quarterly = quarterly_facts('WSM')\n",
   "id": "700b6092701bbbdb",
   "outputs": [
    {
     "name": "stderr",
     "output_type": "stream",
     "text": [
      "C:\\Users\\RIyer\\AppData\\Local\\Temp\\ipykernel_32708\\4054876166.py:7: FutureWarning: The behavior of 'isin' with dtype=datetime64[ns] and castable values (e.g. strings) is deprecated. In a future version, these will not be considered matching by isin. Explicitly cast to the appropriate dtype before calling isin instead.\n",
      "  ten_q = ten_q[ten_q.index.isin(accession_nums.index)].reset_index(drop=False)\n"
     ]
    }
   ],
   "execution_count": 51
  },
  {
   "metadata": {
    "ExecuteTime": {
     "end_time": "2024-09-20T00:38:50.874517Z",
     "start_time": "2024-09-20T00:38:50.860475Z"
    }
   },
   "cell_type": "code",
   "source": [
    "def save_dataframe_to_csv(dataframe, folder_name, ticker, statement_name, frequency):\n",
    "    directory_path = os.path.join(folder_name, ticker)\n",
    "    os.makedirs(directory_path, exist_ok=True)\n",
    "    file_path = os.path.join(directory_path, f\"{statement_name}_{frequency}.csv\")\n",
    "    dataframe.to_csv(file_path)\n",
    "    return None"
   ],
   "id": "bdbda7dda9342177",
   "outputs": [],
   "execution_count": 52
  },
  {
   "metadata": {
    "ExecuteTime": {
     "end_time": "2024-09-20T00:38:52.942920Z",
     "start_time": "2024-09-20T00:38:52.938824Z"
    }
   },
   "cell_type": "code",
   "source": "",
   "id": "936a818cfd6817b",
   "outputs": [],
   "execution_count": 52
  },
  {
   "metadata": {
    "ExecuteTime": {
     "end_time": "2024-09-20T00:38:53.705681Z",
     "start_time": "2024-09-20T00:38:53.687587Z"
    }
   },
   "cell_type": "code",
   "source": "",
   "id": "16e3bd60244ef25f",
   "outputs": [],
   "execution_count": 52
  },
  {
   "metadata": {},
   "cell_type": "code",
   "outputs": [],
   "execution_count": null,
   "source": "",
   "id": "e361629675143074"
  }
 ],
 "metadata": {
  "kernelspec": {
   "display_name": "Python 3",
   "language": "python",
   "name": "python3"
  },
  "language_info": {
   "codemirror_mode": {
    "name": "ipython",
    "version": 2
   },
   "file_extension": ".py",
   "mimetype": "text/x-python",
   "name": "python",
   "nbconvert_exporter": "python",
   "pygments_lexer": "ipython2",
   "version": "2.7.6"
  }
 },
 "nbformat": 4,
 "nbformat_minor": 5
}
